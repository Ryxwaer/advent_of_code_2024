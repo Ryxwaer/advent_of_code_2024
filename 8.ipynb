{
 "cells": [
  {
   "cell_type": "code",
   "execution_count": 19,
   "metadata": {},
   "outputs": [],
   "source": [
    "import numpy as np\n",
    "import matplotlib.pyplot as plt\n",
    "\n",
    "text = \"\"\"\n",
    "............\n",
    "........0...\n",
    ".....0......\n",
    ".......0....\n",
    "....0.......\n",
    "......A.....\n",
    "............\n",
    "............\n",
    "........A...\n",
    ".........A..\n",
    "............\n",
    "............\n",
    "\"\"\""
   ]
  },
  {
   "cell_type": "code",
   "execution_count": 20,
   "metadata": {},
   "outputs": [
    {
     "name": "stdout",
     "output_type": "stream",
     "text": [
      "shape: (12, 12)\n"
     ]
    },
    {
     "data": {
      "text/plain": [
       "array([['.', '.', '.', '.', '.', '.', '.', '.', '.', '.', '.', '.'],\n",
       "       ['.', '.', '.', '.', '.', '.', '.', '.', '0', '.', '.', '.'],\n",
       "       ['.', '.', '.', '.', '.', '0', '.', '.', '.', '.', '.', '.'],\n",
       "       ['.', '.', '.', '.', '.', '.', '.', '0', '.', '.', '.', '.'],\n",
       "       ['.', '.', '.', '.', '0', '.', '.', '.', '.', '.', '.', '.'],\n",
       "       ['.', '.', '.', '.', '.', '.', 'A', '.', '.', '.', '.', '.'],\n",
       "       ['.', '.', '.', '.', '.', '.', '.', '.', '.', '.', '.', '.'],\n",
       "       ['.', '.', '.', '.', '.', '.', '.', '.', '.', '.', '.', '.'],\n",
       "       ['.', '.', '.', '.', '.', '.', '.', '.', 'A', '.', '.', '.'],\n",
       "       ['.', '.', '.', '.', '.', '.', '.', '.', '.', 'A', '.', '.'],\n",
       "       ['.', '.', '.', '.', '.', '.', '.', '.', '.', '.', '.', '.'],\n",
       "       ['.', '.', '.', '.', '.', '.', '.', '.', '.', '.', '.', '.']],\n",
       "      dtype='<U3')"
      ]
     },
     "execution_count": 20,
     "metadata": {},
     "output_type": "execute_result"
    }
   ],
   "source": [
    "matrix = np.array([[y for y in x] for x in text.strip().split('\\n')]).astype(\"<U3\")\n",
    "print(f\"shape: {matrix.shape}\")\n",
    "\n",
    "MAX_LEN = matrix.shape[0]\n",
    "\n",
    "matrix"
   ]
  },
  {
   "cell_type": "code",
   "execution_count": 21,
   "metadata": {},
   "outputs": [
    {
     "data": {
      "image/png": "[encoded data removed]",
      "text/plain": [
       "<Figure size 640x480 with 1 Axes>"
      ]
     },
     "metadata": {},
     "output_type": "display_data"
    }
   ],
   "source": [
    "def to_int(char):\n",
    "    if char == '.':\n",
    "        return 0\n",
    "    if char == '#':\n",
    "        return 100\n",
    "    return ord(char[0])\n",
    "\n",
    "def plot_matrix(matrix):\n",
    "    fig, ax = plt.subplots()\n",
    "    matrix_int = np.vectorize(to_int)(matrix)\n",
    "    cmap = plt.cm.viridis\n",
    "    cmap.set_under('white')\n",
    "    ax.imshow(matrix_int, cmap=cmap, vmin=0.1, vmax=99.9)\n",
    "\n",
    "    for i in range(matrix.shape[0]):\n",
    "        for j in range(matrix.shape[1]):\n",
    "            ax.text(j, i, matrix[i, j], ha='center', va='center', color='black', fontsize=12)\n",
    "\n",
    "    ax.set_xticks(np.arange(matrix.shape[1]))\n",
    "    ax.set_yticks(np.arange(matrix.shape[0]))\n",
    "    ax.set_xticks(np.arange(-0.5, matrix.shape[1], 1), minor=True)\n",
    "    ax.set_yticks(np.arange(-0.5, matrix.shape[0], 1), minor=True)\n",
    "    ax.grid(which='minor', color='gray', linestyle='-', linewidth=0.5)\n",
    "    ax.tick_params(which='both', bottom=False, left=False, labelbottom=False, labelleft=False)\n",
    "    plt.show()\n",
    "\n",
    "plot_matrix(matrix)"
   ]
  },
  {
   "cell_type": "code",
   "execution_count": 22,
   "metadata": {},
   "outputs": [
    {
     "data": {
      "text/plain": [
       "['0', 'A']"
      ]
     },
     "execution_count": 22,
     "metadata": {},
     "output_type": "execute_result"
    }
   ],
   "source": [
    "unigue_values = []\n",
    "\n",
    "(values, counts) = np.unique(matrix, return_counts=True)\n",
    "for i, val in enumerate(values):\n",
    "    if val != '.' and counts[i] > 1:\n",
    "        unigue_values.append(str(val))\n",
    "\n",
    "unigue_values"
   ]
  },
  {
   "cell_type": "code",
   "execution_count": 23,
   "metadata": {},
   "outputs": [],
   "source": [
    "antinode_map = np.empty(matrix.shape, dtype='<U1')\n",
    "matrix_base = matrix.copy"
   ]
  },
  {
   "cell_type": "code",
   "execution_count": 24,
   "metadata": {},
   "outputs": [],
   "source": [
    "def place_antinodes(primary, secondary, map):\n",
    "    global COUNTER\n",
    "    px, py = primary\n",
    "    sx, sy = secondary\n",
    "\n",
    "    dx = sx - px\n",
    "    dy = sy - py\n",
    "    if 0 <= px - dx < MAX_LEN and 0 <= py - dy < MAX_LEN:\n",
    "        map[px - dx, py - dy] = '#'\n",
    "    if 0 <= sx + dx < MAX_LEN and 0 <= sy + dy < MAX_LEN:\n",
    "        map[sx + dx, sy + dy] = '#'"
   ]
  },
  {
   "cell_type": "code",
   "execution_count": 25,
   "metadata": {},
   "outputs": [
    {
     "data": {
      "text/plain": [
       "array([['', '', '', '', '', '', '#', '', '', '', '', '#'],\n",
       "       ['', '', '', '#', '', '', '', '', '', '', '', ''],\n",
       "       ['', '', '', '', '#', '', '', '', '', '', '#', ''],\n",
       "       ['', '', '#', '', '', '', '', '', '', '', '', ''],\n",
       "       ['', '', '', '', '', '', '', '', '', '#', '', ''],\n",
       "       ['', '#', '', '', '', '', '#', '', '', '', '', ''],\n",
       "       ['', '', '', '#', '', '', '', '', '', '', '', ''],\n",
       "       ['#', '', '', '', '', '', '', '#', '', '', '', ''],\n",
       "       ['', '', '', '', '', '', '', '', '', '', '', ''],\n",
       "       ['', '', '', '', '', '', '', '', '', '', '', ''],\n",
       "       ['', '', '', '', '', '', '', '', '', '', '#', ''],\n",
       "       ['', '', '', '', '', '', '', '', '', '', '#', '']], dtype='<U1')"
      ]
     },
     "execution_count": 25,
     "metadata": {},
     "output_type": "execute_result"
    }
   ],
   "source": [
    "fx, fy = (-1, -1)\n",
    "\n",
    "for search_value in unigue_values:\n",
    "    while 1:\n",
    "        for y in range(0, MAX_LEN):\n",
    "            for x in range(0, MAX_LEN):\n",
    "                if matrix[x, y] != search_value:\n",
    "                    continue\n",
    "                # Primary searched char encountered\n",
    "                if fx == fy == -1:\n",
    "                    fx, fy = (x, y)\n",
    "                    matrix[fx, fy] = matrix[fx, fy] + '*'\n",
    "                    continue\n",
    "                # Secondary searched char encountered\n",
    "                place_antinodes((fx, fy), (x, y), antinode_map)\n",
    "\n",
    "\n",
    "        if fx == fy == -1:\n",
    "            break\n",
    "        fx, fy = (-1, -1)\n",
    "\n",
    "antinode_map"
   ]
  },
  {
   "cell_type": "code",
   "execution_count": 26,
   "metadata": {},
   "outputs": [
    {
     "name": "stdout",
     "output_type": "stream",
     "text": [
      "Result: 14\n"
     ]
    },
    {
     "data": {
      "image/png": "[encoded data removed]",
      "text/plain": [
       "<Figure size 640x480 with 1 Axes>"
      ]
     },
     "metadata": {},
     "output_type": "display_data"
    }
   ],
   "source": [
    "print(f\"Result: {np.sum(np.char.count(antinode_map, '#'))}\")\n",
    "plot_matrix(np.where(antinode_map == '#', antinode_map, matrix))"
   ]
  },
  {
   "cell_type": "markdown",
   "metadata": {},
   "source": [
    "## Part 2"
   ]
  },
  {
   "cell_type": "code",
   "execution_count": 27,
   "metadata": {},
   "outputs": [],
   "source": [
    "def place_antinodes_line(primary, secondary, map):\n",
    "    global COUNTER\n",
    "    px, py = primary\n",
    "    sx, sy = secondary\n",
    "\n",
    "    dx = sx - px\n",
    "    dy = sy - py\n",
    "    while 0 <= px - dx < MAX_LEN and 0 <= py - dy < MAX_LEN:\n",
    "        map[px - dx, py - dy] = '#'\n",
    "        px = px - dx\n",
    "        py = py - dy\n",
    "    while 0 <= sx + dx < MAX_LEN and 0 <= sy + dy < MAX_LEN:\n",
    "        map[sx + dx, sy + dy] = '#'\n",
    "        sx = sx + dx\n",
    "        sy = sy + dy"
   ]
  },
  {
   "cell_type": "code",
   "execution_count": 28,
   "metadata": {},
   "outputs": [
    {
     "data": {
      "text/plain": [
       "array([['#', '#', '', '', '', '', '#', '', '', '', '', '#'],\n",
       "       ['', '#', '', '#', '', '', '', '', '', '', '', ''],\n",
       "       ['', '', '#', '', '#', '', '', '', '', '', '#', ''],\n",
       "       ['', '', '#', '#', '', '', '', '', '', '', '', ''],\n",
       "       ['', '', '', '', '#', '', '', '', '', '#', '', ''],\n",
       "       ['', '#', '', '', '', '#', '#', '', '', '', '', '#'],\n",
       "       ['', '', '', '#', '', '', '#', '', '', '', '', ''],\n",
       "       ['#', '', '', '', '', '#', '', '#', '', '', '', ''],\n",
       "       ['', '', '#', '', '', '', '', '', '', '', '', ''],\n",
       "       ['', '', '', '', '#', '', '', '', '', '', '', ''],\n",
       "       ['', '#', '', '', '', '', '', '', '', '', '#', ''],\n",
       "       ['', '', '', '#', '', '', '', '', '', '', '#', '#']], dtype='<U1')"
      ]
     },
     "execution_count": 28,
     "metadata": {},
     "output_type": "execute_result"
    }
   ],
   "source": [
    "fx, fy = (-1, -1)\n",
    "\n",
    "matrix = np.array([[y for y in x] for x in text.strip().split('\\n')]).astype(\"<U3\")\n",
    "\n",
    "for search_value in unigue_values:\n",
    "    while 1:\n",
    "        for y in range(0, MAX_LEN):\n",
    "            for x in range(0, MAX_LEN):\n",
    "                if matrix[x, y] != search_value:\n",
    "                    continue\n",
    "                # Primary searched char encountered\n",
    "                if fx == fy == -1:\n",
    "                    fx, fy = (x, y)\n",
    "                    matrix[fx, fy] = matrix[fx, fy] + '*'\n",
    "                    continue\n",
    "                # Secondary searched char encountered\n",
    "                place_antinodes_line((fx, fy), (x, y), antinode_map)\n",
    "\n",
    "\n",
    "        if fx == fy == -1:\n",
    "            break\n",
    "        fx, fy = (-1, -1)\n",
    "\n",
    "antinode_map"
   ]
  },
  {
   "cell_type": "code",
   "execution_count": 29,
   "metadata": {},
   "outputs": [
    {
     "name": "stdout",
     "output_type": "stream",
     "text": [
      "Result: 34\n"
     ]
    },
    {
     "data": {
      "image/png": "[encoded data removed]",
      "text/plain": [
       "<Figure size 640x480 with 1 Axes>"
      ]
     },
     "metadata": {},
     "output_type": "display_data"
    }
   ],
   "source": [
    "res = np.where(antinode_map == '#', antinode_map, matrix)\n",
    "unique, counts = np.unique(res, return_counts=True)\n",
    "\n",
    "np.where(unique=='.')[0][0]\n",
    "counts[np.where(unique=='.')[0][0]] = 0\n",
    "\n",
    "print(f\"Result: {np.sum(counts)}\")\n",
    "plot_matrix(res)"
   ]
  }
 ],
 "metadata": {
  "kernelspec": {
   "display_name": ".venv",
   "language": "python",
   "name": "python3"
  },
  "language_info": {
   "codemirror_mode": {
    "name": "ipython",
    "version": 3
   },
   "file_extension": ".py",
   "mimetype": "text/x-python",
   "name": "python",
   "nbconvert_exporter": "python",
   "pygments_lexer": "ipython3",
   "version": "3.13.0"
  }
 },
 "nbformat": 4,
 "nbformat_minor": 2
}
