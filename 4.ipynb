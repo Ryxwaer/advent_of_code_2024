{
 "cells": [
  {
   "cell_type": "code",
   "execution_count": 44,
   "metadata": {},
   "outputs": [],
   "source": [
    "import numpy as np\n",
    "\n",
    "f = \"XMAS\"\n",
    "\n",
    "text = \"\"\"\n",
    "MMMSXXMASM\n",
    "MSAMXMSMSA\n",
    "AMXSXMAAMM\n",
    "MSAMASMSMX\n",
    "XMASAMXAMM\n",
    "XXAMMXXAMA\n",
    "SMSMSASXSS\n",
    "SAXAMASAAA\n",
    "MAMMMXMMMM\n",
    "MXMXAXMASX\n",
    "\"\"\""
   ]
  },
  {
   "cell_type": "code",
   "execution_count": 45,
   "metadata": {},
   "outputs": [
    {
     "name": "stdout",
     "output_type": "stream",
     "text": [
      "shape: (10, 10)\n"
     ]
    },
    {
     "data": {
      "text/plain": [
       "array([['M', 'M', 'M', 'S', 'X', 'X', 'M', 'A', 'S', 'M'],\n",
       "       ['M', 'S', 'A', 'M', 'X', 'M', 'S', 'M', 'S', 'A'],\n",
       "       ['A', 'M', 'X', 'S', 'X', 'M', 'A', 'A', 'M', 'M'],\n",
       "       ['M', 'S', 'A', 'M', 'A', 'S', 'M', 'S', 'M', 'X'],\n",
       "       ['X', 'M', 'A', 'S', 'A', 'M', 'X', 'A', 'M', 'M'],\n",
       "       ['X', 'X', 'A', 'M', 'M', 'X', 'X', 'A', 'M', 'A'],\n",
       "       ['S', 'M', 'S', 'M', 'S', 'A', 'S', 'X', 'S', 'S'],\n",
       "       ['S', 'A', 'X', 'A', 'M', 'A', 'S', 'A', 'A', 'A'],\n",
       "       ['M', 'A', 'M', 'M', 'M', 'X', 'M', 'M', 'M', 'M'],\n",
       "       ['M', 'X', 'M', 'X', 'A', 'X', 'M', 'A', 'S', 'X']], dtype='<U1')"
      ]
     },
     "execution_count": 45,
     "metadata": {},
     "output_type": "execute_result"
    }
   ],
   "source": [
    "matrix = np.array([[y for y in x] for x in text.strip().split('\\n')])\n",
    "print(f\"shape: {matrix.shape}\")\n",
    "matrix"
   ]
  },
  {
   "cell_type": "code",
   "execution_count": 46,
   "metadata": {},
   "outputs": [
    {
     "name": "stdout",
     "output_type": "stream",
     "text": [
      "[0, 4]: 1\n",
      "[0, 5]: 1\n",
      "[1, 4]: 1\n",
      "[2, 2]: 0\n",
      "[2, 4]: 0\n",
      "[3, 9]: 2\n",
      "[4, 0]: 1\n",
      "[4, 6]: 2\n",
      "[5, 0]: 1\n",
      "[5, 1]: 0\n",
      "[5, 5]: 0\n",
      "[5, 6]: 1\n",
      "[6, 7]: 0\n",
      "[7, 2]: 0\n",
      "[8, 5]: 0\n",
      "[9, 1]: 1\n",
      "[9, 3]: 2\n",
      "[9, 5]: 3\n",
      "[9, 9]: 2\n",
      "Final count: 18\n"
     ]
    }
   ],
   "source": [
    "def search_rest(x, y, matrix, word):\n",
    "    count = 0\n",
    "    for dx in [-1, 0, 1]:\n",
    "        for dy in [-1, 0, 1]:\n",
    "            if (dx, dy) == (0, 0): continue\n",
    "            if one_direction(x, y, dx, dy, word, matrix):\n",
    "                count += 1\n",
    "    return count\n",
    "\n",
    "def one_direction(x, y, dx, dy, word, matrix):\n",
    "    try:\n",
    "        nx = x + dx\n",
    "        ny = y + dy\n",
    "        if nx < 0 or ny < 0: raise(IndexError)\n",
    "        next_l = matrix[nx, ny]\n",
    "    except (IndexError):\n",
    "        return False\n",
    "    if next_l == word[0]:\n",
    "        sub_word = word[1:len(word)]\n",
    "        if sub_word:\n",
    "            return one_direction(x+dx, y+dy, dx, dy, sub_word, matrix)\n",
    "        else:\n",
    "            return True\n",
    "    return False\n",
    "\n",
    "def search_first(matrix, word):\n",
    "    indexes = np.where(matrix == [\"X\"])\n",
    "    counter = 0\n",
    "    for (x, y) in zip(indexes[0], indexes[1]):\n",
    "        count = search_rest(x, y, matrix, word[1:len(word)])\n",
    "        print(f\"[{x}, {y}]: {count}\")\n",
    "        counter += count\n",
    "    print(f\"Final count: {counter}\")\n",
    "\n",
    "search_first(matrix, \"XMAS\")"
   ]
  },
  {
   "cell_type": "markdown",
   "metadata": {},
   "source": [
    "## Part 2"
   ]
  },
  {
   "cell_type": "code",
   "execution_count": 47,
   "metadata": {},
   "outputs": [
    {
     "data": {
      "text/plain": [
       "array([['M', 'M', 'M', 'S', 'X', 'X', 'M', 'A', 'S', 'M'],\n",
       "       ['M', 'S', '#', 'M', 'X', 'M', 'S', 'M', 'S', 'A'],\n",
       "       ['A', 'M', 'X', 'S', 'X', 'M', '#', '#', 'M', 'M'],\n",
       "       ['M', 'S', '#', 'M', '#', 'S', 'M', 'S', 'M', 'X'],\n",
       "       ['X', 'M', 'A', 'S', 'A', 'M', 'X', 'A', 'M', 'M'],\n",
       "       ['X', 'X', 'A', 'M', 'M', 'X', 'X', 'A', 'M', 'A'],\n",
       "       ['S', 'M', 'S', 'M', 'S', 'A', 'S', 'X', 'S', 'S'],\n",
       "       ['S', '#', 'X', '#', 'M', '#', 'S', '#', 'A', 'A'],\n",
       "       ['M', 'A', 'M', 'M', 'M', 'X', 'M', 'M', 'M', 'M'],\n",
       "       ['M', 'X', 'M', 'X', 'A', 'X', 'M', 'A', 'S', 'X']], dtype='<U1')"
      ]
     },
     "execution_count": 47,
     "metadata": {},
     "output_type": "execute_result"
    }
   ],
   "source": [
    "length = matrix.shape[0]\n",
    "\n",
    "ref = np.array([\n",
    "    [['M', '*', 'M'],\n",
    "     ['*', 'A', '*'],\n",
    "     ['S', '*', 'S']],\n",
    "    [['S', '*', 'S'],\n",
    "     ['*', 'A', '*'],\n",
    "     ['M', '*', 'M']],\n",
    "    [['M', '*', 'S'],\n",
    "     ['*', 'A', '*'],\n",
    "     ['M', '*', 'S']],\n",
    "    [['S', '*', 'M'],\n",
    "     ['*', 'A', '*'],\n",
    "     ['S', '*', 'M']]], dtype='<U1')\n",
    "\n",
    "def check_match(submatrix, refs):\n",
    "    for ref in refs:\n",
    "        if  submatrix[0,0] == ref[0,0] and \\\n",
    "            submatrix[2,0] == ref[2,0] and \\\n",
    "            submatrix[1,1] == ref[1,1] and \\\n",
    "            submatrix[0,2] == ref[0,2] and \\\n",
    "            submatrix[2,2] == ref[2,2]:\n",
    "            submatrix[1,1] = '#'\n",
    "\n",
    "for y in range(0, length):\n",
    "    if y + 3 > length:\n",
    "        continue\n",
    "    for x in range(0, length):\n",
    "        if x + 3 > length:\n",
    "            continue\n",
    "        submatrix = matrix[x:x+3, y:y+3]\n",
    "        check_match(submatrix, ref)\n",
    "matrix"
   ]
  },
  {
   "cell_type": "code",
   "execution_count": 48,
   "metadata": {},
   "outputs": [
    {
     "data": {
      "text/plain": [
       "np.int64(9)"
      ]
     },
     "execution_count": 48,
     "metadata": {},
     "output_type": "execute_result"
    }
   ],
   "source": [
    "np.sum(np.char.count(matrix, '#'))"
   ]
  }
 ],
 "metadata": {
  "kernelspec": {
   "display_name": ".venv",
   "language": "python",
   "name": "python3"
  },
  "language_info": {
   "codemirror_mode": {
    "name": "ipython",
    "version": 3
   },
   "file_extension": ".py",
   "mimetype": "text/x-python",
   "name": "python",
   "nbconvert_exporter": "python",
   "pygments_lexer": "ipython3",
   "version": "3.13.0"
  }
 },
 "nbformat": 4,
 "nbformat_minor": 2
}
